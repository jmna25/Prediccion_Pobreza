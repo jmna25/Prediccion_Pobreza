{
 "cells": [
  {
   "cell_type": "markdown",
   "id": "335fdb08-eee6-451f-a823-32eb85420e16",
   "metadata": {},
   "source": [
    "# CODE 1921"
   ]
  },
  {
   "cell_type": "code",
   "execution_count": 1,
   "id": "f0f03dfe-df0c-4471-af9a-09d43503854d",
   "metadata": {},
   "outputs": [],
   "source": [
    "import pandas as pd\n",
    "import numpy as np\n",
    "from glob import glob\n",
    "import os\n",
    "import funciones as fun\n",
    "import variables_nombres as vn\n",
    "from warnings import simplefilter\n",
    "import pickle\n",
    "import joblib"
   ]
  },
  {
   "cell_type": "code",
   "execution_count": 2,
   "id": "8f9fd2ce-8f63-4099-9eec-835ef6171db6",
   "metadata": {},
   "outputs": [],
   "source": [
    "#print(dir(fun))\n",
    "simplefilter( action = \"ignore\", category = pd.errors.PerformanceWarning )\n",
    "#pd.set_option('display.max_rows', 10)\n",
    "#pd.set_option('display.max_columns', 10)"
   ]
  },
  {
   "cell_type": "code",
   "execution_count": 3,
   "id": "7ec42959-90da-443c-8ea9-18ae6aaea06d",
   "metadata": {},
   "outputs": [],
   "source": [
    "import warnings\n",
    "warnings.filterwarnings('ignore')"
   ]
  },
  {
   "cell_type": "code",
   "execution_count": 4,
   "id": "b69b8cc8-dadd-4650-9efc-455a579b30c9",
   "metadata": {},
   "outputs": [],
   "source": [
    "import pandas as  pd, numpy as np"
   ]
  },
  {
   "cell_type": "code",
   "execution_count": 5,
   "id": "2a54d6e6-267c-4045-9d19-e43c29276d62",
   "metadata": {},
   "outputs": [],
   "source": [
    "# Cargar datos\n",
    "path = r'..\\input\\base19_21.csv'\n",
    "data = pd.read_csv( path )"
   ]
  },
  {
   "cell_type": "code",
   "execution_count": 6,
   "id": "73b0dbaa-56d7-44f2-90d0-90059bdac6e3",
   "metadata": {},
   "outputs": [],
   "source": [
    "data = data.dropna( axis = 1 )"
   ]
  },
  {
   "cell_type": "code",
   "execution_count": 7,
   "id": "7e51e283-e984-4716-ac0e-537a6d2904ce",
   "metadata": {},
   "outputs": [
    {
     "data": {
      "text/plain": [
       "(39807, 233)"
      ]
     },
     "execution_count": 7,
     "metadata": {},
     "output_type": "execute_result"
    }
   ],
   "source": [
    "data.shape"
   ]
  },
  {
   "cell_type": "code",
   "execution_count": 8,
   "id": "2bbcaeff-5881-4fdd-bbff-a9e700b66f11",
   "metadata": {},
   "outputs": [
    {
     "data": {
      "text/plain": [
       "0    0.848318\n",
       "1    0.151682\n",
       "Name: pobreza, dtype: float64"
      ]
     },
     "execution_count": 8,
     "metadata": {},
     "output_type": "execute_result"
    }
   ],
   "source": [
    "data[ 'pobreza' ].value_counts( normalize = True )"
   ]
  },
  {
   "cell_type": "code",
   "execution_count": 9,
   "id": "c17782af-72c2-4c2d-ad60-7c95f97c9ba8",
   "metadata": {},
   "outputs": [
    {
     "data": {
      "text/plain": [
       "0    33769\n",
       "1     6038\n",
       "Name: pobreza, dtype: int64"
      ]
     },
     "execution_count": 9,
     "metadata": {},
     "output_type": "execute_result"
    }
   ],
   "source": [
    "data['pobreza'].value_counts()"
   ]
  },
  {
   "cell_type": "code",
   "execution_count": 10,
   "id": "20b47616-35db-49de-bd7b-f1e80915d535",
   "metadata": {},
   "outputs": [
    {
     "data": {
      "text/plain": [
       "0    33769\n",
       "1     6038\n",
       "Name: pobreza, dtype: int64"
      ]
     },
     "execution_count": 10,
     "metadata": {},
     "output_type": "execute_result"
    }
   ],
   "source": [
    "data['pobreza'].value_counts()"
   ]
  },
  {
   "cell_type": "markdown",
   "id": "d8bfd6b0-b435-41f4-af1f-801c8bb71989",
   "metadata": {},
   "source": [
    "## SPLIT VARIABLES"
   ]
  },
  {
   "cell_type": "code",
   "execution_count": 11,
   "id": "853066a2-f826-46d0-8e30-50fc67cfeb1d",
   "metadata": {},
   "outputs": [],
   "source": [
    "from sklearn.model_selection import train_test_split"
   ]
  },
  {
   "cell_type": "code",
   "execution_count": 12,
   "id": "125e2ebe-c574-4862-8d3b-f7ee32eafaa1",
   "metadata": {},
   "outputs": [],
   "source": [
    "dep_var = [ 'pobreza' ]\n",
    "gasto_all = vn.gasto_variables + vn.gastos_ingresos_vars\n",
    "pred_vars = [ col for col in data.columns if col not in dep_var and col not in vn.string_variables and col not in gasto_all and col not in vn.no_predictoras_variables ]\n",
    "\n",
    "x_train, x_test, y_train, y_test = train_test_split( data[ pred_vars ], \n",
    "                                                     data[ 'pobreza' ], \n",
    "                                                     test_size = 0.3,\n",
    "                                                     random_state = 2023 )"
   ]
  },
  {
   "cell_type": "markdown",
   "id": "47f98d03-e7b2-47fa-9793-2d270d18959f",
   "metadata": {},
   "source": [
    "## RESAMPLING"
   ]
  },
  {
   "cell_type": "markdown",
   "id": "c49dd369-7b57-4bd3-a6b3-9253f02d6e1b",
   "metadata": {},
   "source": [
    "### Smote Tomek"
   ]
  },
  {
   "cell_type": "code",
   "execution_count": 13,
   "id": "e306cc21-763e-4dc2-88f5-f7fd69bfa6c6",
   "metadata": {},
   "outputs": [],
   "source": [
    "from imblearn.under_sampling import NearMiss\n",
    "from imblearn.combine import SMOTETomek\n",
    "from collections import Counter"
   ]
  },
  {
   "cell_type": "code",
   "execution_count": 14,
   "id": "e20db327-ee2c-4df3-a6ef-fccbd500e1d8",
   "metadata": {},
   "outputs": [
    {
     "name": "stdout",
     "output_type": "stream",
     "text": [
      "[(0, 23553), (1, 23553)]\n"
     ]
    }
   ],
   "source": [
    "os_us = SMOTETomek(random_state=2023, sampling_strategy='all' )\n",
    "x_train_smote_tomek, y_train_smote_tomek = os_us.fit_resample(x_train, y_train)\n",
    "\n",
    "print(sorted(Counter(y_train_smote_tomek).items()))"
   ]
  },
  {
   "cell_type": "markdown",
   "id": "764fb5c9-fafe-434f-ba2a-6382d78cf5b2",
   "metadata": {},
   "source": [
    "### Smote"
   ]
  },
  {
   "cell_type": "code",
   "execution_count": 15,
   "id": "5c28bf26-d2d7-40ce-9e2c-9f4c63d4d59d",
   "metadata": {},
   "outputs": [],
   "source": [
    "from imblearn.over_sampling import SMOTE\n",
    "from collections import Counter"
   ]
  },
  {
   "cell_type": "code",
   "execution_count": 16,
   "id": "4b46b35f-2b5c-4f7e-a445-1281c9e9a44a",
   "metadata": {},
   "outputs": [
    {
     "name": "stdout",
     "output_type": "stream",
     "text": [
      "[(0, 23561), (1, 23561)]\n"
     ]
    }
   ],
   "source": [
    "os_us = SMOTE(random_state=2023, sampling_strategy='all' )\n",
    "x_train_smote, y_train_smote = os_us.fit_resample(x_train, y_train)\n",
    "\n",
    "print(sorted(Counter(y_train_smote).items()))"
   ]
  },
  {
   "cell_type": "markdown",
   "id": "bede0fb4-da50-451d-b142-48df56c2a0bb",
   "metadata": {},
   "source": [
    "## CHECK DATA"
   ]
  },
  {
   "cell_type": "code",
   "execution_count": 17,
   "id": "d9b568f9-c36b-4007-b382-af7d40db5bb2",
   "metadata": {},
   "outputs": [
    {
     "data": {
      "text/html": [
       "<div>\n",
       "<style scoped>\n",
       "    .dataframe tbody tr th:only-of-type {\n",
       "        vertical-align: middle;\n",
       "    }\n",
       "\n",
       "    .dataframe tbody tr th {\n",
       "        vertical-align: top;\n",
       "    }\n",
       "\n",
       "    .dataframe thead th {\n",
       "        text-align: right;\n",
       "    }\n",
       "</style>\n",
       "<table border=\"1\" class=\"dataframe\">\n",
       "  <thead>\n",
       "    <tr style=\"text-align: right;\">\n",
       "      <th></th>\n",
       "      <th>observaciones</th>\n",
       "      <th>variables</th>\n",
       "      <th>Nro. No</th>\n",
       "      <th>Nro. Si</th>\n",
       "    </tr>\n",
       "  </thead>\n",
       "  <tbody>\n",
       "    <tr>\n",
       "      <th>Original</th>\n",
       "      <td>27864.0</td>\n",
       "      <td>215.0</td>\n",
       "      <td>23561.0</td>\n",
       "      <td>4303.0</td>\n",
       "    </tr>\n",
       "    <tr>\n",
       "      <th>SMOTE</th>\n",
       "      <td>47122.0</td>\n",
       "      <td>215.0</td>\n",
       "      <td>23561.0</td>\n",
       "      <td>23561.0</td>\n",
       "    </tr>\n",
       "    <tr>\n",
       "      <th>SOMTE Tomek</th>\n",
       "      <td>47106.0</td>\n",
       "      <td>215.0</td>\n",
       "      <td>23553.0</td>\n",
       "      <td>23553.0</td>\n",
       "    </tr>\n",
       "  </tbody>\n",
       "</table>\n",
       "</div>"
      ],
      "text/plain": [
       "             observaciones  variables  Nro. No  Nro. Si\n",
       "Original           27864.0      215.0  23561.0   4303.0\n",
       "SMOTE              47122.0      215.0  23561.0  23561.0\n",
       "SOMTE Tomek        47106.0      215.0  23553.0  23553.0"
      ]
     },
     "execution_count": 17,
     "metadata": {},
     "output_type": "execute_result"
    }
   ],
   "source": [
    "# Check data\n",
    "\n",
    "check_data = np.zeros( ( 3, 4 ) )\n",
    "check_data[ 0 ] = [ x_train.shape[ 0 ], x_train.shape[ 1 ], \n",
    "                    y_train.value_counts()[ 0 ], y_train.value_counts()[ 1 ] ]\n",
    "\n",
    "check_data[ 1 ] = [ x_train_smote.shape[ 0 ], x_train_smote.shape[ 1 ], \n",
    "                    y_train_smote.value_counts()[ 0 ], y_train_smote.value_counts()[ 1 ] ]\n",
    "\n",
    "check_data[ 2 ] = [ x_train_smote_tomek.shape[ 0 ], x_train_smote_tomek.shape[ 1 ],\n",
    "                    y_train_smote_tomek.value_counts()[ 0 ], y_train_smote_tomek.value_counts()[ 1 ] ]\n",
    "\n",
    "colnames = [ 'observaciones', 'variables', 'Nro. No', 'Nro. Si' ]\n",
    "rownames = [ 'Original',\n",
    "             'SMOTE',\n",
    "             'SOMTE Tomek']\n",
    "\n",
    "table_check_data = pd.DataFrame( check_data, columns = colnames )\n",
    "table_check_data.index = rownames\n",
    "table_check_data"
   ]
  },
  {
   "cell_type": "markdown",
   "id": "0b1240fe-e92b-4010-a909-4629d2e4fcb6",
   "metadata": {},
   "source": [
    "## RANDOM FOREST"
   ]
  },
  {
   "cell_type": "code",
   "execution_count": 18,
   "id": "31f976c7-058a-40f5-a692-c109f8753253",
   "metadata": {},
   "outputs": [],
   "source": [
    "from sklearn.ensemble import RandomForestClassifier\n",
    "from sklearn.model_selection import GridSearchCV"
   ]
  },
  {
   "cell_type": "code",
   "execution_count": 19,
   "id": "69672948-e072-469a-a41f-431ad68f801e",
   "metadata": {},
   "outputs": [
    {
     "name": "stdout",
     "output_type": "stream",
     "text": [
      "Original dataset: {'max_features': 'auto', 'n_estimators': 1000}\n",
      "SMOTE dataset: {'max_features': 'log2', 'n_estimators': 1000}\n",
      "SMOTE Tomek dataset: {'max_features': 'log2', 'n_estimators': 500}\n",
      "CPU times: total: 26min 8s\n",
      "Wall time: 1h 4min 32s\n"
     ]
    }
   ],
   "source": [
    "%%time\n",
    "\n",
    "# Set the model (Comentado)\n",
    "rf_model = RandomForestClassifier( random_state = 2023,\n",
    "                                   n_jobs = -1 )\n",
    "\n",
    "# Define param grid (Comentado)\n",
    "rf_param_grid = {\n",
    "    'n_estimators': [ 500, 1000, 2000 ],\n",
    "    'max_features': [ 'auto', 'sqrt', 'log2' ]\n",
    "}\n",
    "\n",
    "# Grid search (Comentado)\n",
    "rf_search_o = GridSearchCV( estimator = rf_model,\n",
    "                            param_grid = rf_param_grid )\n",
    "\n",
    "rf_search_s = GridSearchCV( estimator = rf_model,\n",
    "                            param_grid = rf_param_grid )\n",
    "\n",
    "rf_search_st = GridSearchCV( estimator = rf_model,\n",
    "                             param_grid = rf_param_grid )\n",
    "\n",
    "# Fit different models (Comentado)\n",
    "rf_search_o.fit( x_train, y_train )\n",
    "rf_search_s.fit( x_train_smote, y_train_smote )\n",
    "rf_search_st.fit( x_train_smote_tomek, y_train_smote_tomek )\n",
    "\n",
    "# Print best params and best score (Comentado)\n",
    "print( f'Original dataset: { rf_search_o.best_params_ }' )\n",
    "print( f'SMOTE dataset: { rf_search_s.best_params_ }')\n",
    "print( f'SMOTE Tomek dataset: { rf_search_st.best_params_ }' )\n",
    "\n",
    "# Select best params (Comentado)\n",
    "rf_max_features_o = rf_search_o.best_params_[ 'max_features' ]\n",
    "rf_n_estimators_o = rf_search_o.best_params_[ 'n_estimators' ]\n",
    "\n",
    "rf_max_features_s = rf_search_s.best_params_[ 'max_features' ]\n",
    "rf_n_estimators_s = rf_search_s.best_params_[ 'n_estimators' ]\n",
    "\n",
    "rf_max_features_st = rf_search_st.best_params_[ 'max_features' ]\n",
    "rf_n_estimators_st = rf_search_st.best_params_[ 'n_estimators' ]"
   ]
  },
  {
   "cell_type": "code",
   "execution_count": 20,
   "id": "8708671e-cd1c-4c82-b434-010b79e025f6",
   "metadata": {},
   "outputs": [],
   "source": [
    "### Train the optimal models\n",
    "rf_optimal_model_o = RandomForestClassifier( max_features = rf_max_features_o, \n",
    "                                             n_estimators = rf_n_estimators_o,\n",
    "                                             random_state = 2023,\n",
    "                                             n_jobs = -1 )\n",
    "\n",
    "rf_optimal_model_s = RandomForestClassifier( max_features = rf_max_features_s, \n",
    "                                             n_estimators = rf_n_estimators_s,\n",
    "                                             random_state = 2023,\n",
    "                                             n_jobs = -1 )\n",
    "\n",
    "rf_optimal_model_st = RandomForestClassifier( max_features = rf_max_features_st, \n",
    "                                              n_estimators = rf_n_estimators_st,\n",
    "                                              random_state = 2023,\n",
    "                                              n_jobs = -1 )\n",
    "\n",
    "rf_optimal_model_o.fit( x_train, y_train )\n",
    "rf_optimal_model_s.fit( x_train_smote, y_train_smote )\n",
    "rf_optimal_model_st.fit( x_train_smote_tomek, y_train_smote_tomek )\n",
    "\n",
    "# Apply over test set\n",
    "y_rf_pred_class_o = rf_optimal_model_o.predict( x_test )\n",
    "y_rf_pred_prob_o = rf_optimal_model_o.predict_proba( x_test )[ :, 1 ]\n",
    "\n",
    "y_rf_pred_class_s = rf_optimal_model_s.predict( x_test )\n",
    "y_rf_pred_prob_s = rf_optimal_model_s.predict_proba( x_test )[ :, 1 ]\n",
    "\n",
    "y_rf_pred_class_st = rf_optimal_model_st.predict( x_test )\n",
    "y_rf_pred_prob_st = rf_optimal_model_st.predict_proba( x_test )[ :, 1 ]"
   ]
  },
  {
   "cell_type": "code",
   "execution_count": 21,
   "id": "c189422a-7847-4dc8-a0bd-6e145c3bc487",
   "metadata": {},
   "outputs": [],
   "source": [
    "from sklearn.metrics import classification_report, accuracy_score, log_loss, roc_auc_score, f1_score"
   ]
  },
  {
   "cell_type": "code",
   "execution_count": 22,
   "id": "2e875276-8fcb-4767-ba60-d74cca0a7f5d",
   "metadata": {},
   "outputs": [],
   "source": [
    "# Calculating clasiffication report\n",
    "columns = [ 'no', 'si' ]\n",
    "rf_report_o = classification_report( y_test, y_rf_pred_class_o, target_names = columns, output_dict = True )\n",
    "rf_report_s = classification_report( y_test, y_rf_pred_class_s, target_names = columns, output_dict = True )\n",
    "rf_report_st = classification_report( y_test, y_rf_pred_class_st, target_names = columns, output_dict = True )\n",
    "\n",
    "# Calculating metrics for the original model\n",
    "rf_no_precision_o = rf_report_o[ 'no' ][ 'precision' ]\n",
    "rf_no_recall_o = rf_report_o[ 'no' ][ 'recall' ]\n",
    "rf_no_f1_score_o = rf_report_o[ 'no' ][ 'f1-score' ]\n",
    "\n",
    "rf_si_precision_o = rf_report_o[ 'si' ][ 'precision' ]\n",
    "rf_si_recall_o = rf_report_o[ 'si' ][ 'recall' ]\n",
    "rf_si_f1_score_o = rf_report_o[ 'si' ][ 'f1-score' ]\n",
    "\n",
    "accuracy_rf_o = accuracy_score( y_test, y_rf_pred_class_o )\n",
    "log_loss_rf_o = log_loss( y_test, y_rf_pred_class_o )\n",
    "roc_auc_rf_o = roc_auc_score( y_test, y_rf_pred_prob_o )\n",
    "f1_score_rf_o = f1_score( y_test, y_rf_pred_class_o, average = 'binary' )\n",
    "\n",
    "# Calculating metrics for the SMOTE model\n",
    "rf_no_precision_s = rf_report_s[ 'no' ][ 'precision' ]\n",
    "rf_no_recall_s = rf_report_s[ 'no' ][ 'recall' ]\n",
    "rf_no_f1_score_s = rf_report_s[ 'no' ][ 'f1-score' ]\n",
    "\n",
    "rf_si_precision_s = rf_report_s[ 'si' ][ 'precision' ]\n",
    "rf_si_recall_s = rf_report_s[ 'si' ][ 'recall' ]\n",
    "rf_si_f1_score_s = rf_report_s[ 'si' ][ 'f1-score' ]\n",
    "\n",
    "accuracy_rf_s = accuracy_score( y_test, y_rf_pred_class_s )\n",
    "log_loss_rf_s = log_loss( y_test, y_rf_pred_class_s )\n",
    "roc_auc_rf_s = roc_auc_score( y_test, y_rf_pred_prob_s )\n",
    "f1_score_rf_s = f1_score( y_test, y_rf_pred_class_s, average = 'binary' )\n",
    "\n",
    "# Calculating metrics for the SMOTE Tomek model\n",
    "rf_no_precision_st = rf_report_st[ 'no' ][ 'precision' ]\n",
    "rf_no_recall_st = rf_report_st[ 'no' ][ 'recall' ]\n",
    "rf_no_f1_score_st = rf_report_st[ 'no' ][ 'f1-score' ]\n",
    "\n",
    "rf_si_precision_st = rf_report_st[ 'si' ][ 'precision' ]\n",
    "rf_si_recall_st = rf_report_st[ 'si' ][ 'recall' ]\n",
    "rf_si_f1_score_st = rf_report_st[ 'si' ][ 'f1-score' ]\n",
    "\n",
    "accuracy_rf_st = accuracy_score( y_test, y_rf_pred_class_st )\n",
    "log_loss_rf_st = log_loss( y_test, y_rf_pred_class_st )\n",
    "roc_auc_rf_st = roc_auc_score( y_test, y_rf_pred_prob_st )\n",
    "f1_score_rf_st = f1_score( y_test, y_rf_pred_class_st, average = 'binary' )"
   ]
  },
  {
   "cell_type": "markdown",
   "id": "0c1eafa5-4e5d-4a64-be10-ac3fdd3387fd",
   "metadata": {},
   "source": [
    "## GBOOST"
   ]
  },
  {
   "cell_type": "code",
   "execution_count": 23,
   "id": "4a67105b-bf50-4457-bfe1-dfe7c5963325",
   "metadata": {},
   "outputs": [],
   "source": [
    "from sklearn.linear_model import LogisticRegression\n",
    "from sklearn.metrics import accuracy_score, confusion_matrix, log_loss, roc_auc_score\n",
    "from sklearn.metrics import classification_report\n",
    "from sklearn.metrics import f1_score, matthews_corrcoef"
   ]
  },
  {
   "cell_type": "code",
   "execution_count": 24,
   "id": "6ed779da-71e6-4f15-a122-08e7cadcbb43",
   "metadata": {},
   "outputs": [
    {
     "name": "stdout",
     "output_type": "stream",
     "text": [
      "Requirement already satisfied: xgboost in c:\\users\\jimen\\onedrive\\documentos\\anaconda\\lib\\site-packages (1.7.5)\n",
      "Requirement already satisfied: numpy in c:\\users\\jimen\\onedrive\\documentos\\anaconda\\lib\\site-packages (from xgboost) (1.23.5)\n",
      "Requirement already satisfied: scipy in c:\\users\\jimen\\onedrive\\documentos\\anaconda\\lib\\site-packages (from xgboost) (1.10.0)\n"
     ]
    }
   ],
   "source": [
    "!pip install xgboost"
   ]
  },
  {
   "cell_type": "code",
   "execution_count": 25,
   "id": "1ea5f07c-d8ba-4784-a8d4-5fca8f166f70",
   "metadata": {},
   "outputs": [],
   "source": [
    "from xgboost import XGBClassifier"
   ]
  },
  {
   "cell_type": "code",
   "execution_count": 26,
   "id": "b2217a6a-9b53-478e-9c01-7381510dfe17",
   "metadata": {},
   "outputs": [
    {
     "name": "stdout",
     "output_type": "stream",
     "text": [
      "Original dataset: {'learning_rate': 0.1, 'n_estimators': 2000}\n",
      "SMOTE dataset: {'learning_rate': 0.1, 'n_estimators': 2000}\n",
      "SMOTE Tomek dataset: {'learning_rate': 0.1, 'n_estimators': 1000}\n",
      "CPU times: total: 1d 6h 34min 55s\n",
      "Wall time: 3h 7min 51s\n"
     ]
    }
   ],
   "source": [
    "%%time\n",
    "\n",
    "# Set the model (Comentrario) \n",
    "xgb_model = XGBClassifier( use_label_encoder = False, \n",
    "                           objective = 'binary:logistic', \n",
    "                           verbosity = 0,\n",
    "                           random_state = 2023,\n",
    "                           n_jobs = -1 )\n",
    "\n",
    "# Define param grid (Comentrario)\n",
    "xgb_param_grid = {\n",
    "    'n_estimators': [ 500, 1000, 2000 ],\n",
    "    'learning_rate': [0.1, 0.5, 1]\n",
    "}\n",
    "\n",
    "# Grid search (Comentrario)\n",
    "xgb_search_o = GridSearchCV( estimator = xgb_model,\n",
    "                             param_grid = xgb_param_grid )\n",
    "\n",
    "xgb_search_s = GridSearchCV( estimator = xgb_model,\n",
    "                             param_grid = xgb_param_grid )\n",
    "\n",
    "xgb_search_st = GridSearchCV( estimator = xgb_model,\n",
    "                              param_grid = xgb_param_grid )\n",
    "\n",
    "# Fit different models (Comentrario)\n",
    "xgb_search_o.fit( x_train, y_train )\n",
    "xgb_search_s.fit( x_train_smote, y_train_smote )\n",
    "xgb_search_st.fit( x_train_smote_tomek, y_train_smote_tomek )\n",
    "\n",
    "# Print best params and best scores (Comentrario)\n",
    "print( f'Original dataset: { xgb_search_o.best_params_ }' )\n",
    "print( f'SMOTE dataset: { xgb_search_s.best_params_ }' )\n",
    "print( f'SMOTE Tomek dataset: { xgb_search_st.best_params_ }' )\n",
    "\n",
    "# Select best params (Comentrario)\n",
    "xgb_learning_rate_o = xgb_search_o.best_params_[ 'learning_rate' ] \n",
    "xgb_n_estimators_o = xgb_search_o.best_params_[ 'n_estimators' ] \n",
    "\n",
    "xgb_learning_rate_s = xgb_search_s.best_params_[ 'learning_rate' ] \n",
    "xgb_n_estimators_s = xgb_search_s.best_params_[ 'n_estimators' ] \n",
    "\n",
    "xgb_learning_rate_st = xgb_search_st.best_params_[ 'learning_rate' ] \n",
    "xgb_n_estimators_st = xgb_search_st.best_params_[ 'n_estimators' ]"
   ]
  },
  {
   "cell_type": "code",
   "execution_count": 47,
   "id": "7fe45e9e-cf6a-4968-9777-5ee326472e69",
   "metadata": {},
   "outputs": [],
   "source": [
    "# Train the optimal model\n",
    "xgb_optimal_model_o = XGBClassifier( objective = 'binary:logistic', \n",
    "                                     verbosity = 0,\n",
    "                                     learning_rate = xgb_learning_rate_o, \n",
    "                                     n_estimators = xgb_n_estimators_o,\n",
    "                                     random_state = 2023,\n",
    "                                     n_jobs = -1 )\n",
    "\n",
    "xgb_optimal_model_s = XGBClassifier( objective = 'binary:logistic', \n",
    "                                     verbosity = 0,\n",
    "                                     learning_rate = xgb_learning_rate_o, \n",
    "                                     n_estimators = xgb_n_estimators_o,\n",
    "                                     random_state = 2023,\n",
    "                                     n_jobs = -1 )\n",
    "\n",
    "xgb_optimal_model_st = XGBClassifier( objective = 'binary:logistic', \n",
    "                                      verbosity = 0,\n",
    "                                      learning_rate = xgb_learning_rate_o, \n",
    "                                      n_estimators = xgb_n_estimators_o,\n",
    "                                      random_state = 2023,\n",
    "                                      n_jobs = -1 )\n",
    "\n",
    "xgb_optimal_model_o.fit( x_train, y_train )\n",
    "xgb_optimal_model_s.fit( x_train_smote, y_train_smote )\n",
    "xgb_optimal_model_st.fit( x_train_smote_tomek, y_train_smote_tomek )\n",
    "\n",
    "# Apply over test set\n",
    "y_xgb_pred_class_o = xgb_optimal_model_o.predict( x_test )\n",
    "y_xgb_pred_prob_o = xgb_optimal_model_o.predict_proba( x_test )[ :, 1 ]\n",
    "\n",
    "y_xgb_pred_class_s = xgb_optimal_model_s.predict( x_test )\n",
    "y_xgb_pred_prob_s = xgb_optimal_model_s.predict_proba( x_test )[ :, 1 ]\n",
    "\n",
    "y_xgb_pred_class_st = xgb_optimal_model_st.predict( x_test )\n",
    "y_xgb_pred_prob_st = xgb_optimal_model_st.predict_proba( x_test )[ :, 1 ]"
   ]
  },
  {
   "cell_type": "code",
   "execution_count": 48,
   "id": "231a207e-c423-4a9e-9fae-e3fb5f39a326",
   "metadata": {},
   "outputs": [],
   "source": [
    "# Calculating clasiffication report\n",
    "columns = [ 'no', 'si' ]\n",
    "xgb_report_o = classification_report( y_test, \n",
    "                                      y_xgb_pred_class_o, \n",
    "                                      target_names = columns, \n",
    "                                      output_dict = True)\n",
    "\n",
    "xgb_report_s = classification_report( y_test, \n",
    "                                      y_xgb_pred_class_s, \n",
    "                                      target_names = columns, \n",
    "                                      output_dict = True)\n",
    "\n",
    "xgb_report_st = classification_report( y_test, \n",
    "                                       y_xgb_pred_class_st, \n",
    "                                       target_names = columns, \n",
    "                                       output_dict = True)\n",
    "\n",
    "# Calculating metrics for the original model\n",
    "xgb_no_precision_o = xgb_report_o[ 'no' ][ 'precision' ]\n",
    "xgb_no_recall_o = xgb_report_o[ 'no' ][ 'recall' ]\n",
    "xgb_no_f1_score_o = xgb_report_o[ 'no' ][ 'f1-score' ]\n",
    "\n",
    "xgb_si_precision_o = xgb_report_o[ 'si' ][ 'precision' ]\n",
    "xgb_si_recall_o = xgb_report_o[ 'si' ][ 'recall' ]\n",
    "xgb_si_f1_score_o = xgb_report_o[ 'si' ][ 'f1-score' ]\n",
    "\n",
    "accuracy_xgb_o = accuracy_score( y_test, y_xgb_pred_class_o )\n",
    "log_loss_xgb_o = log_loss( y_test, y_xgb_pred_class_o )\n",
    "roc_auc_xgb_o = roc_auc_score( y_test, y_xgb_pred_prob_o )\n",
    "f1_score_xgb_o = f1_score( y_test, y_xgb_pred_class_o, average = 'binary' )\n",
    "\n",
    "# Calculating metrics for the SMOTE model\n",
    "xgb_no_precision_s = xgb_report_s[ 'no' ][ 'precision' ]\n",
    "xgb_no_recall_s = xgb_report_s[ 'no' ][ 'recall' ]\n",
    "xgb_no_f1_score_s = xgb_report_s[ 'no' ][ 'f1-score' ]\n",
    "\n",
    "xgb_si_precision_s = xgb_report_s[ 'si' ][ 'precision' ]\n",
    "xgb_si_recall_s = xgb_report_s[ 'si' ][ 'recall' ]\n",
    "xgb_si_f1_score_s = xgb_report_s[ 'si' ][ 'f1-score' ]\n",
    "\n",
    "accuracy_xgb_s = accuracy_score( y_test, y_xgb_pred_class_s )\n",
    "log_loss_xgb_s = log_loss( y_test, y_xgb_pred_class_s )\n",
    "roc_auc_xgb_s = roc_auc_score( y_test, y_xgb_pred_prob_s )\n",
    "f1_score_xgb_s = f1_score( y_test, y_xgb_pred_class_s, average = 'binary' )\n",
    "\n",
    "# Calculating metrics for the SMOTE Tomek model\n",
    "xgb_no_precision_st = xgb_report_st[ 'no' ][ 'precision' ]\n",
    "xgb_no_recall_st = xgb_report_st[ 'no' ][ 'recall' ]\n",
    "xgb_no_f1_score_st = xgb_report_st[ 'no' ][ 'f1-score' ]\n",
    "\n",
    "xgb_si_precision_st = xgb_report_st[ 'si' ][ 'precision' ]\n",
    "xgb_si_recall_st = xgb_report_st[ 'si' ][ 'recall' ]\n",
    "xgb_si_f1_score_st = xgb_report_st[ 'si' ][ 'f1-score' ]\n",
    "\n",
    "accuracy_xgb_st = accuracy_score( y_test, y_xgb_pred_class_st )\n",
    "log_loss_xgb_st = log_loss( y_test, y_xgb_pred_class_st )\n",
    "roc_auc_xgb_st = roc_auc_score( y_test, y_xgb_pred_prob_st )\n",
    "f1_score_xgb_st = f1_score( y_test, y_xgb_pred_class_st, average = 'binary' )"
   ]
  },
  {
   "cell_type": "markdown",
   "id": "5f543e04-4373-4936-bfe6-01cc605d6cf0",
   "metadata": {},
   "source": [
    "## RESULTADOS"
   ]
  },
  {
   "cell_type": "code",
   "execution_count": 49,
   "id": "46694611-05a7-433a-8a4e-36d39f6cdc90",
   "metadata": {},
   "outputs": [],
   "source": [
    "# Calculate Matthews Correlation Coefficient\n",
    "from sklearn.metrics import matthews_corrcoef\n",
    "\n",
    "mcc_rf_o = matthews_corrcoef( y_test, y_rf_pred_class_o )\n",
    "mcc_rf_s = matthews_corrcoef( y_test, y_rf_pred_class_s )\n",
    "mcc_rf_st = matthews_corrcoef( y_test, y_rf_pred_class_st )\n",
    "\n",
    "# Calculate Matthews Correlation Coefficient con GBoost\n",
    "mcc_xgb_o = matthews_corrcoef( y_test, y_xgb_pred_class_o )\n",
    "mcc_xgb_s = matthews_corrcoef( y_test, y_xgb_pred_class_s )\n",
    "mcc_xgb_st = matthews_corrcoef( y_test, y_xgb_pred_class_st )"
   ]
  },
  {
   "cell_type": "code",
   "execution_count": 50,
   "id": "f8e359a1-1e24-49f3-ae9f-a69c7a0cf018",
   "metadata": {},
   "outputs": [
    {
     "data": {
      "text/html": [
       "<div>\n",
       "<style scoped>\n",
       "    .dataframe tbody tr th:only-of-type {\n",
       "        vertical-align: middle;\n",
       "    }\n",
       "\n",
       "    .dataframe tbody tr th {\n",
       "        vertical-align: top;\n",
       "    }\n",
       "\n",
       "    .dataframe thead th {\n",
       "        text-align: right;\n",
       "    }\n",
       "</style>\n",
       "<table border=\"1\" class=\"dataframe\">\n",
       "  <thead>\n",
       "    <tr style=\"text-align: right;\">\n",
       "      <th></th>\n",
       "      <th>Overall_Accuracy</th>\n",
       "      <th>Roc_Auc</th>\n",
       "      <th>Global_F1_Score</th>\n",
       "      <th>Matthews_Corr_Coef</th>\n",
       "      <th>No_Precision</th>\n",
       "      <th>No_Recall</th>\n",
       "      <th>No_F1_Score</th>\n",
       "      <th>Si_Precision</th>\n",
       "      <th>Si_Recall</th>\n",
       "      <th>Si_F1_Score</th>\n",
       "    </tr>\n",
       "  </thead>\n",
       "  <tbody>\n",
       "    <tr>\n",
       "      <th>O. Random Forest</th>\n",
       "      <td>0.981</td>\n",
       "      <td>0.992</td>\n",
       "      <td>0.930</td>\n",
       "      <td>0.922</td>\n",
       "      <td>0.978</td>\n",
       "      <td>1.000</td>\n",
       "      <td>0.989</td>\n",
       "      <td>1.000</td>\n",
       "      <td>0.870</td>\n",
       "      <td>0.930</td>\n",
       "    </tr>\n",
       "    <tr>\n",
       "      <th>S. Random Forest</th>\n",
       "      <td>0.978</td>\n",
       "      <td>0.992</td>\n",
       "      <td>0.920</td>\n",
       "      <td>0.908</td>\n",
       "      <td>0.980</td>\n",
       "      <td>0.994</td>\n",
       "      <td>0.987</td>\n",
       "      <td>0.962</td>\n",
       "      <td>0.881</td>\n",
       "      <td>0.920</td>\n",
       "    </tr>\n",
       "    <tr>\n",
       "      <th>ST. Random Forest</th>\n",
       "      <td>0.977</td>\n",
       "      <td>0.991</td>\n",
       "      <td>0.919</td>\n",
       "      <td>0.907</td>\n",
       "      <td>0.980</td>\n",
       "      <td>0.993</td>\n",
       "      <td>0.987</td>\n",
       "      <td>0.958</td>\n",
       "      <td>0.884</td>\n",
       "      <td>0.919</td>\n",
       "    </tr>\n",
       "    <tr>\n",
       "      <th>O. Boosted Trees</th>\n",
       "      <td>0.979</td>\n",
       "      <td>0.985</td>\n",
       "      <td>0.924</td>\n",
       "      <td>0.913</td>\n",
       "      <td>0.980</td>\n",
       "      <td>0.996</td>\n",
       "      <td>0.988</td>\n",
       "      <td>0.972</td>\n",
       "      <td>0.880</td>\n",
       "      <td>0.924</td>\n",
       "    </tr>\n",
       "    <tr>\n",
       "      <th>S. Boosted Trees</th>\n",
       "      <td>0.978</td>\n",
       "      <td>0.983</td>\n",
       "      <td>0.921</td>\n",
       "      <td>0.909</td>\n",
       "      <td>0.981</td>\n",
       "      <td>0.993</td>\n",
       "      <td>0.987</td>\n",
       "      <td>0.958</td>\n",
       "      <td>0.887</td>\n",
       "      <td>0.921</td>\n",
       "    </tr>\n",
       "    <tr>\n",
       "      <th>ST. Boosted Trees</th>\n",
       "      <td>0.978</td>\n",
       "      <td>0.984</td>\n",
       "      <td>0.922</td>\n",
       "      <td>0.910</td>\n",
       "      <td>0.982</td>\n",
       "      <td>0.993</td>\n",
       "      <td>0.987</td>\n",
       "      <td>0.955</td>\n",
       "      <td>0.891</td>\n",
       "      <td>0.922</td>\n",
       "    </tr>\n",
       "  </tbody>\n",
       "</table>\n",
       "</div>"
      ],
      "text/plain": [
       "                   Overall_Accuracy  Roc_Auc  Global_F1_Score  \\\n",
       "O. Random Forest              0.981    0.992            0.930   \n",
       "S. Random Forest              0.978    0.992            0.920   \n",
       "ST. Random Forest             0.977    0.991            0.919   \n",
       "O. Boosted Trees              0.979    0.985            0.924   \n",
       "S. Boosted Trees              0.978    0.983            0.921   \n",
       "ST. Boosted Trees             0.978    0.984            0.922   \n",
       "\n",
       "                   Matthews_Corr_Coef  No_Precision  No_Recall  No_F1_Score  \\\n",
       "O. Random Forest                0.922         0.978      1.000        0.989   \n",
       "S. Random Forest                0.908         0.980      0.994        0.987   \n",
       "ST. Random Forest               0.907         0.980      0.993        0.987   \n",
       "O. Boosted Trees                0.913         0.980      0.996        0.988   \n",
       "S. Boosted Trees                0.909         0.981      0.993        0.987   \n",
       "ST. Boosted Trees               0.910         0.982      0.993        0.987   \n",
       "\n",
       "                   Si_Precision  Si_Recall  Si_F1_Score  \n",
       "O. Random Forest          1.000      0.870        0.930  \n",
       "S. Random Forest          0.962      0.881        0.920  \n",
       "ST. Random Forest         0.958      0.884        0.919  \n",
       "O. Boosted Trees          0.972      0.880        0.924  \n",
       "S. Boosted Trees          0.958      0.887        0.921  \n",
       "ST. Boosted Trees         0.955      0.891        0.922  "
      ]
     },
     "execution_count": 50,
     "metadata": {},
     "output_type": "execute_result"
    }
   ],
   "source": [
    "## con gboost\n",
    "\n",
    "table = np.zeros( ( 6, 10 ) )\n",
    "\n",
    "table[ 0 ] = [ accuracy_rf_o, roc_auc_rf_o, f1_score_rf_o, mcc_rf_o, rf_no_precision_o, rf_no_recall_o, \n",
    "               rf_no_f1_score_o, rf_si_precision_o, rf_si_recall_o, rf_si_f1_score_o ]\n",
    "\n",
    "table[ 1 ] = [ accuracy_rf_s, roc_auc_rf_s, f1_score_rf_s, mcc_rf_s, rf_no_precision_s, rf_no_recall_s, \n",
    "               rf_no_f1_score_s, rf_si_precision_s, rf_si_recall_s, rf_si_f1_score_s ]\n",
    "\n",
    "table[ 2 ] = [ accuracy_rf_st, roc_auc_rf_st, f1_score_rf_st, mcc_rf_st, rf_no_precision_st, rf_no_recall_st, \n",
    "               rf_no_f1_score_st, rf_si_precision_st, rf_si_recall_st, rf_si_f1_score_st ]\n",
    "\n",
    "table[ 3 ] = [ accuracy_xgb_o, roc_auc_xgb_o, f1_score_xgb_o, mcc_xgb_o, xgb_no_precision_o, xgb_no_recall_o, \n",
    "               xgb_no_f1_score_o, xgb_si_precision_o, xgb_si_recall_o, xgb_si_f1_score_o ]\n",
    "\n",
    "table[ 4 ] = [ accuracy_xgb_s, roc_auc_xgb_s, f1_score_xgb_s, mcc_xgb_s, xgb_no_precision_s, xgb_no_recall_s, \n",
    "               xgb_no_f1_score_s, xgb_si_precision_s, xgb_si_recall_s, xgb_si_f1_score_s ]\n",
    "\n",
    "table[ 5 ] = [ accuracy_xgb_st, roc_auc_xgb_st, f1_score_xgb_st, mcc_xgb_st, xgb_no_precision_st, xgb_no_recall_st, \n",
    "               xgb_no_f1_score_st, xgb_si_precision_st, xgb_si_recall_st, xgb_si_f1_score_st ]\n",
    "\n",
    "colnames_table = [ \"Overall_Accuracy\", \"Roc_Auc\", \"Global_F1_Score\", \"Matthews_Corr_Coef\", \"No_Precision\", \n",
    "                   \"No_Recall\", \"No_F1_Score\", \"Si_Precision\", \"Si_Recall\", \"Si_F1_Score\" ]\n",
    "                  \n",
    "rownames_table = [ \"O. Random Forest\",                   \n",
    "                   \"S. Random Forest\", \n",
    "                   \"ST. Random Forest\",\n",
    "                   \"O. Boosted Trees\",\n",
    "                   \"S. Boosted Trees\",\n",
    "                 \"ST. Boosted Trees\"]                  \n",
    "\n",
    "table_pandas = pd.DataFrame( table, columns = colnames_table )\n",
    "table_pandas.index = rownames_table\n",
    "\n",
    "table_pandas = table_pandas.round( 3 )\n",
    "table_pandas"
   ]
  },
  {
   "cell_type": "markdown",
   "id": "5a712413-20d9-465f-882d-8705aa822629",
   "metadata": {},
   "source": [
    "# SAVE MODELS"
   ]
  },
  {
   "cell_type": "code",
   "execution_count": 51,
   "id": "6f37ddca-dcee-472e-b017-ea3c6cf18636",
   "metadata": {},
   "outputs": [
    {
     "data": {
      "text/plain": [
       "['..\\\\extra\\\\ejecucion_1\\\\models\\\\xgb_st_1921.joblib']"
      ]
     },
     "execution_count": 51,
     "metadata": {},
     "output_type": "execute_result"
    }
   ],
   "source": [
    "joblib.dump( rf_optimal_model_o, r'..\\extra\\ejecucion_1\\models\\rf_o_1921.joblib' )\n",
    "joblib.dump( rf_optimal_model_s, r'..\\extra\\ejecucion_1\\models\\rf_s_1921.joblib' )\n",
    "joblib.dump( rf_optimal_model_st, r'..\\extra\\ejecucion_1\\models\\rf_st_1921.joblib' )\n",
    "\n",
    "joblib.dump( xgb_optimal_model_o, r'..\\extra\\ejecucion_1\\models\\xgb_o_1921.joblib' )\n",
    "joblib.dump( xgb_optimal_model_s, r'..\\extra\\ejecucion_1\\models\\xgb_s_1921.joblib' )\n",
    "joblib.dump( xgb_optimal_model_st, r'..\\extra\\ejecucion_1\\models\\xgb_st_1921.joblib' )"
   ]
  },
  {
   "cell_type": "markdown",
   "id": "af512fce-d12e-49f3-a9fe-13a4e540a80d",
   "metadata": {},
   "source": [
    "# GRID SEARCH RESULTS"
   ]
  },
  {
   "cell_type": "code",
   "execution_count": 52,
   "id": "3743824c-7f2c-4cfa-91e6-4b5720ebc5cb",
   "metadata": {},
   "outputs": [],
   "source": [
    "# Store Grid Search Results for Random Forest\n",
    "results_gs_rf_o = pd.DataFrame( rf_search_o.cv_results_ )\n",
    "results_gs_rf_s = pd.DataFrame( rf_search_s.cv_results_ )\n",
    "results_gs_rf_st = pd.DataFrame( rf_search_st.cv_results_ )\n",
    "\n",
    "# Store Grid Search Results for Boosted Trees\n",
    "results_gs_xgb_o = pd.DataFrame( xgb_search_o.cv_results_ )\n",
    "results_gs_xgb_s = pd.DataFrame( xgb_search_s.cv_results_ )\n",
    "results_gs_xgb_st = pd.DataFrame( xgb_search_st.cv_results_ )"
   ]
  },
  {
   "cell_type": "code",
   "execution_count": 53,
   "id": "690e9954-2e8a-4909-9b4e-cc32a653d463",
   "metadata": {},
   "outputs": [],
   "source": [
    "# Save Grid Search Results for Random Forest\n",
    "results_gs_rf_o.to_excel( r'..\\results\\ejecucion_1\\gridsearch_results\\1921_results_gs_rf_o.xlsx' )\n",
    "results_gs_rf_s.to_excel( r'..\\results\\ejecucion_1\\gridsearch_results\\1921_results_gs_rf_s.xlsx' )\n",
    "results_gs_rf_st.to_excel( r'..\\results\\ejecucion_1\\gridsearch_results\\1921_results_gs_rf_st.xlsx' )\n",
    "\n",
    "# Save Grid Search Results for Boosted Trees\n",
    "results_gs_xgb_o.to_excel( r'..\\results\\ejecucion_1\\gridsearch_results\\1921_results_gs_xgb_o.xlsx' )\n",
    "results_gs_xgb_s.to_excel( r'..\\results\\ejecucion_1\\gridsearch_results\\1921_results_gs_xgb_s.xlsx' )\n",
    "results_gs_xgb_st.to_excel( r'..\\results\\ejecucion_1\\gridsearch_results\\1921_results_gs_xgb_st.xlsx' )"
   ]
  },
  {
   "cell_type": "markdown",
   "id": "3d92f2aa-b2b7-465c-a704-f4017d491c1a",
   "metadata": {},
   "source": [
    "# FEATURE MAP"
   ]
  },
  {
   "cell_type": "code",
   "execution_count": 54,
   "id": "ef4904c7-86df-460a-8588-927a682d0a36",
   "metadata": {},
   "outputs": [],
   "source": [
    "# Random Forest (Original) \n",
    "fp_randomforest_o = pd.Series( rf_optimal_model_o.feature_importances_, index = pred_vars ).\\\n",
    "                    sort_values( ascending = False )\n",
    "\n",
    "fp_randomforest_o = pd.DataFrame( fp_randomforest_o.head( 50 ) ).\\\n",
    "                                  reset_index().\\\n",
    "                                  rename( columns = { 'index': 'vars', 0: 'score' } )"
   ]
  },
  {
   "cell_type": "code",
   "execution_count": 55,
   "id": "3faaf1fa-d871-4588-a2ec-97462c56c7ab",
   "metadata": {},
   "outputs": [],
   "source": [
    "# Random Forest (SMOTE)\n",
    "fp_randomforest_s = pd.Series( rf_optimal_model_s.feature_importances_, index = pred_vars ).\\\n",
    "                    sort_values( ascending = False )\n",
    "\n",
    "fp_randomforest_s = pd.DataFrame( fp_randomforest_s.head( 50 ) ).\\\n",
    "                                  reset_index().\\\n",
    "                                  rename( columns = { 'index': 'vars', 0: 'score' } )"
   ]
  },
  {
   "cell_type": "code",
   "execution_count": 56,
   "id": "8e4d1d04-08cd-4968-9bd2-e364c1d0ab64",
   "metadata": {},
   "outputs": [],
   "source": [
    "# Random Forest (SMOTE Tomek)\n",
    "fp_randomforest_st = pd.Series( rf_optimal_model_st.feature_importances_, index = pred_vars ).\\\n",
    "                     sort_values( ascending = False )\n",
    "\n",
    "fp_randomforest_st = pd.DataFrame( fp_randomforest_st.head( 50 ) ).\\\n",
    "                                   reset_index().\\\n",
    "                                   rename( columns = { 'index': 'vars', 0: 'score' } )"
   ]
  },
  {
   "cell_type": "code",
   "execution_count": 57,
   "id": "07c22d23-590e-4f34-939d-c4469c7c522f",
   "metadata": {},
   "outputs": [],
   "source": [
    "# Boosted Trees (Original)\n",
    "fp_xgboost_o = pd.Series( xgb_optimal_model_o.feature_importances_, index = pred_vars ).\\\n",
    "           sort_values( ascending = False )\n",
    "\n",
    "fp_xgboost_o = pd.DataFrame( fp_xgboost_o.head( 50 ) ).\\\n",
    "                             reset_index().\\\n",
    "                             rename( columns = { 'index': 'vars', 0: 'score' } )"
   ]
  },
  {
   "cell_type": "code",
   "execution_count": 58,
   "id": "abdc68ef-ec2e-454a-8823-7f645b59871e",
   "metadata": {},
   "outputs": [],
   "source": [
    "# Boosted Trees (SMOTE)\n",
    "fp_xgboost_s = pd.Series( xgb_optimal_model_s.feature_importances_, index = pred_vars ).\\\n",
    "               sort_values( ascending = False )\n",
    "\n",
    "fp_xgboost_s = pd.DataFrame( fp_xgboost_s.head( 50 ) ).\\\n",
    "                             reset_index().\\\n",
    "                             rename( columns = { 'index': 'vars', 0: 'score' } )"
   ]
  },
  {
   "cell_type": "code",
   "execution_count": 59,
   "id": "7fad4c51-95e1-4643-9495-1a88fc628e74",
   "metadata": {},
   "outputs": [],
   "source": [
    "# Boosted Trees (SMOTE Tomek)\n",
    "fp_xgboost_st = pd.Series( xgb_optimal_model_st.feature_importances_, index = pred_vars ).\\\n",
    "                sort_values( ascending = False )\n",
    "\n",
    "fp_xgboost_st = pd.DataFrame( fp_xgboost_st.head( 50 ) ).\\\n",
    "                              reset_index().\\\n",
    "                              rename( columns = { 'index': 'vars', 0: 'score' } )"
   ]
  },
  {
   "cell_type": "code",
   "execution_count": 60,
   "id": "893f3e21-8827-4f14-8637-2c286e93e39c",
   "metadata": {
    "tags": []
   },
   "outputs": [],
   "source": [
    "# Tabla general\n",
    "table_pandas.to_excel( r'..\\results\\ejecucion_1\\results\\base_1921_results.xlsx' )"
   ]
  },
  {
   "cell_type": "code",
   "execution_count": 61,
   "id": "ba323329-d7d1-4685-95d5-a1415ae5e5c4",
   "metadata": {},
   "outputs": [],
   "source": [
    "# Variables Random Forest\n",
    "\n",
    "fp_randomforest_o.to_excel( r'..\\results\\ejecucion_1\\results\\base_1921_rf_o.xlsx' )\n",
    "fp_randomforest_s.to_excel( r'..\\results\\ejecucion_1\\results\\base_1921_rf_s.xlsx' )\n",
    "fp_randomforest_st.to_excel( r'..\\results\\ejecucion_1\\results\\base_1921_rf_st.xlsx' )"
   ]
  },
  {
   "cell_type": "code",
   "execution_count": 62,
   "id": "ea8eaa9f-fc15-437e-bb05-f517690adb1e",
   "metadata": {},
   "outputs": [],
   "source": [
    "# Variables Boosted Trees\n",
    "\n",
    "fp_xgboost_o.to_excel( r'..\\results\\ejecucion_1\\results\\base_1921_xgb_o.xlsx' )\n",
    "fp_xgboost_s.to_excel( r'..\\results\\ejecucion_1\\results\\base_1921_xgb_s.xlsx' )\n",
    "fp_xgboost_st.to_excel( r'..\\results\\ejecucion_1\\results\\base_1921_xgb_st.xlsx' )"
   ]
  },
  {
   "cell_type": "markdown",
   "id": "338a04bc-9ec2-4946-beeb-f134e1a73fc6",
   "metadata": {},
   "source": [
    "## ROC CURVES"
   ]
  },
  {
   "cell_type": "code",
   "execution_count": 63,
   "id": "7fcafacc-30ea-465c-9e70-4b802b0ed723",
   "metadata": {},
   "outputs": [],
   "source": [
    "import matplotlib.pyplot as plt\n",
    "from sklearn.metrics import roc_curve, auc\n",
    "from sklearn import metrics\n",
    "import matplotlib.pyplot as plt"
   ]
  },
  {
   "cell_type": "code",
   "execution_count": 64,
   "id": "5bbeae75-0725-4487-b0a7-89161e616a7c",
   "metadata": {},
   "outputs": [
    {
     "data": {
      "image/png": "[encoded data removed]",
      "text/plain": [
       "<Figure size 640x480 with 1 Axes>"
      ]
     },
     "metadata": {},
     "output_type": "display_data"
    }
   ],
   "source": [
    "# RANDOM FOREST\n",
    "\n",
    "plt.figure( 0 ).clf()\n",
    "\n",
    "# Random Forest Original\n",
    "fpr, tpr, _ = metrics.roc_curve( y_test, y_rf_pred_class_o )\n",
    "plt.plot( fpr, tpr, label= \"O. Random Forest, AUC=\" + str( roc_auc_rf_o ) )\n",
    "\n",
    "# Random Forest SMOTE\n",
    "fpr, tpr, _ = metrics.roc_curve( y_test, y_rf_pred_class_s )\n",
    "plt.plot( fpr, tpr, label= \"S. Random Forest, AUC=\" + str( roc_auc_rf_s ) )\n",
    "\n",
    "# Random Forest SMOTE\n",
    "fpr, tpr, _ = metrics.roc_curve( y_test, y_rf_pred_class_st )\n",
    "plt.plot( fpr, tpr, label= \"ST. Random Forest, AUC=\" + str( roc_auc_rf_st ) )\n",
    "\n",
    "#add legend\n",
    "plt.legend()\n",
    "\n",
    "# save plot as JPG\n",
    "plt.savefig( r'..\\results\\plots\\roc_curve_rf_1921.jpg', dpi = 300, bbox_inches = 'tight' )"
   ]
  },
  {
   "cell_type": "code",
   "execution_count": 65,
   "id": "da52f150-0d07-4359-8d88-b51db78c85e5",
   "metadata": {},
   "outputs": [
    {
     "data": {
      "image/png": "[encoded data removed]",
      "text/plain": [
       "<Figure size 640x480 with 1 Axes>"
      ]
     },
     "metadata": {},
     "output_type": "display_data"
    }
   ],
   "source": [
    "# BOOSTED TREES\n",
    "\n",
    "plt.figure( 0 ).clf()\n",
    "\n",
    "# Random Forest Original\n",
    "fpr, tpr, _ = metrics.roc_curve( y_test, y_xgb_pred_class_o )\n",
    "plt.plot( fpr, tpr, label= \"O. Boosted Trees, AUC=\" + str( roc_auc_xgb_o ) )\n",
    "\n",
    "# Random Forest SMOTE\n",
    "fpr, tpr, _ = metrics.roc_curve( y_test, y_xgb_pred_class_s )\n",
    "plt.plot( fpr, tpr, label= \"S. Boosted Trees, AUC=\" + str( roc_auc_xgb_s ) )\n",
    "\n",
    "# Random Forest SMOTE\n",
    "fpr, tpr, _ = metrics.roc_curve( y_test, y_xgb_pred_class_st )\n",
    "plt.plot( fpr, tpr, label= \"ST. Boosted Trees, AUC=\" + str( roc_auc_xgb_st ) )\n",
    "\n",
    "#add legend\n",
    "plt.legend()\n",
    "\n",
    "# save plot as JPG\n",
    "plt.savefig( r'..\\results\\plots\\roc_curve_xgb_1921.jpg', dpi = 300, bbox_inches = 'tight' )"
   ]
  },
  {
   "cell_type": "code",
   "execution_count": null,
   "id": "1c3c498d-8506-47f4-bb11-0c8b74b260c3",
   "metadata": {},
   "outputs": [],
   "source": []
  }
 ],
 "metadata": {
  "kernelspec": {
   "display_name": "Python 3 (ipykernel)",
   "language": "python",
   "name": "python3"
  },
  "language_info": {
   "codemirror_mode": {
    "name": "ipython",
    "version": 3
   },
   "file_extension": ".py",
   "mimetype": "text/x-python",
   "name": "python",
   "nbconvert_exporter": "python",
   "pygments_lexer": "ipython3",
   "version": "3.10.9"
  }
 },
 "nbformat": 4,
 "nbformat_minor": 5
}
